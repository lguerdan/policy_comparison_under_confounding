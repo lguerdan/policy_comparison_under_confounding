{
 "cells": [
  {
   "cell_type": "code",
   "execution_count": 1,
   "id": "6d677029",
   "metadata": {},
   "outputs": [],
   "source": [
    "import numpy as np\n",
    "import pandas as pd\n",
    "import matplotlib.pyplot as plt\n",
    "import seaborn as sns\n",
    "import statsmodels.stats.api as sms\n",
    "pd.options.mode.chained_assignment = None\n",
    "\n",
    "from bound_funcs import *\n",
    "from simulations import *"
   ]
  },
  {
   "cell_type": "markdown",
   "id": "076a1322",
   "metadata": {},
   "source": [
    "## Iterate on a realistic DGP"
   ]
  },
  {
   "cell_type": "code",
   "execution_count": 121,
   "id": "f09d2ba2",
   "metadata": {},
   "outputs": [],
   "source": [
    "D = np.random.binomial(1, .8, size=1000)\n",
    "A =  np.random.binomial(1, .6, size=1000)\n",
    "Y = np.random.binomial(1, .8, size=1000)\n",
    "\n",
    "v11 = ((D==1) & (A==1) & (Y==1)).mean()\n",
    "v01 = ((D==1) & (A==0) & (Y==1)).mean()\n",
    "w11 = ((D==1) & (A==1) & (Y==0)).mean()\n",
    "w01 = ((D==1) & (A==0) & (Y==0)).mean()\n",
    "\n",
    "rho00 = ((A==0) & (D==0)).mean()\n",
    "rho01 = ((A==0) & (D==1)).mean()\n",
    "rho10 = ((A==1) & (D==0)).mean()\n",
    "rho11 = ((D==1) & (A==1)).mean()\n",
    "\n",
    "v10 = ((A==1) & (D==0) & (Y==1)).mean()\n",
    "v00 = ((A==0) & (D==0) & (Y==1)).mean()\n",
    "w10 = ((A==1) & (D==0) & (Y==0)).mean()\n",
    "w00 = ((A==0) & (D==0) & (Y==0)).mean()\n",
    "\n",
    "v10_up = ((A==1) & (D==0)).mean()\n",
    "w10_down = 0"
   ]
  },
  {
   "cell_type": "code",
   "execution_count": 13,
   "id": "5aabd324",
   "metadata": {},
   "outputs": [
    {
     "ename": "NameError",
     "evalue": "name 'p10' is not defined",
     "output_type": "error",
     "traceback": [
      "\u001b[0;31m---------------------------------------------------------------------------\u001b[0m",
      "\u001b[0;31mNameError\u001b[0m                                 Traceback (most recent call last)",
      "\u001b[0;32m/var/folders/w_/rwxvw5hn1ng2qvm6353gkvqw0000gr/T/ipykernel_7887/4077416023.py\u001b[0m in \u001b[0;36m<module>\u001b[0;34m\u001b[0m\n\u001b[1;32m      2\u001b[0m \u001b[0;34m\u001b[0m\u001b[0m\n\u001b[1;32m      3\u001b[0m \u001b[0;34m\u001b[0m\u001b[0m\n\u001b[0;32m----> 4\u001b[0;31m \u001b[0md\u001b[0m \u001b[0;34m=\u001b[0m \u001b[0mw00_up\u001b[0m \u001b[0;32mif\u001b[0m \u001b[0mp10\u001b[0m \u001b[0;34m<\u001b[0m \u001b[0mp01\u001b[0m \u001b[0;32melse\u001b[0m \u001b[0mp00_down\u001b[0m\u001b[0;34m\u001b[0m\u001b[0;34m\u001b[0m\u001b[0m\n\u001b[0m\u001b[1;32m      5\u001b[0m \u001b[0mR_down\u001b[0m \u001b[0;34m=\u001b[0m \u001b[0;34m(\u001b[0m\u001b[0md\u001b[0m\u001b[0;34m*\u001b[0m\u001b[0;34m(\u001b[0m\u001b[0mrho10\u001b[0m\u001b[0;34m-\u001b[0m\u001b[0mrho01\u001b[0m\u001b[0;34m)\u001b[0m\u001b[0;34m+\u001b[0m\u001b[0mw01\u001b[0m\u001b[0;34m*\u001b[0m\u001b[0;34m(\u001b[0m\u001b[0mrho10\u001b[0m\u001b[0;34m+\u001b[0m\u001b[0mrho00\u001b[0m\u001b[0;34m)\u001b[0m \u001b[0;34m-\u001b[0m \u001b[0mw10_up\u001b[0m\u001b[0;34m*\u001b[0m\u001b[0;34m(\u001b[0m\u001b[0mrho01\u001b[0m\u001b[0;34m+\u001b[0m\u001b[0mrho00\u001b[0m\u001b[0;34m)\u001b[0m\u001b[0;34m)\u001b[0m\u001b[0;34m/\u001b[0m\u001b[0;34m(\u001b[0m\u001b[0;34m(\u001b[0m\u001b[0mrho10\u001b[0m\u001b[0;34m+\u001b[0m\u001b[0mrho00\u001b[0m\u001b[0;34m)\u001b[0m\u001b[0;34m*\u001b[0m\u001b[0;34m(\u001b[0m\u001b[0mrho01\u001b[0m\u001b[0;34m+\u001b[0m\u001b[0mrho00\u001b[0m\u001b[0;34m)\u001b[0m\u001b[0;34m)\u001b[0m\u001b[0;34m\u001b[0m\u001b[0;34m\u001b[0m\u001b[0m\n\u001b[1;32m      6\u001b[0m \u001b[0;34m\u001b[0m\u001b[0m\n",
      "\u001b[0;31mNameError\u001b[0m: name 'p10' is not defined"
     ]
    }
   ],
   "source": [
    "regret = ((A==0) & (Y==0)).mean() / (A==0).mean() - ((D==0) & (Y==0)).mean() / (D==0).mean()\n",
    "\n",
    "\n"
   ]
  },
  {
   "cell_type": "code",
   "execution_count": 7,
   "id": "4f812e32",
   "metadata": {},
   "outputs": [],
   "source": [
    "nz = 10\n",
    "dgp = {\n",
    "    'N': 10000,\n",
    "    'nz': nz,\n",
    "    'beta': 2.5*(1/nz) ,\n",
    "    'wa': np.array([-1.95, .01, 2, .01]), \n",
    "    'wd': np.array([-1.1, 1.7, .01, 1.5, .2, .2]),\n",
    "    'w_mu1': np.array([1.3, .8, .02, .9, .3, .6]),\n",
    "    'w_mu0': np.array([1.5, .05, 1.8, .05, .2, .5])\n",
    "}\n",
    "data = sigmoid_dgp(dgp)\n",
    "u = np.array([[0,0], [0, 0]])"
   ]
  },
  {
   "cell_type": "code",
   "execution_count": 9,
   "id": "1bd4e4ba",
   "metadata": {},
   "outputs": [
    {
     "data": {
      "text/plain": [
       "(0.2360884242622237,\n",
       " 0.749942116230609,\n",
       " {'v10_down': 0,\n",
       "  'v10_up': 0.1071,\n",
       "  'v00_down': 0,\n",
       "  'v00_up': 0.3793,\n",
       "  'w10_down': 0,\n",
       "  'w10_up': 0.1071,\n",
       "  'w00_down': 0,\n",
       "  'w00_up': 0.3793})"
      ]
     },
     "execution_count": 9,
     "metadata": {},
     "output_type": "execute_result"
    }
   ],
   "source": [
    "one_step_bounds(data, dgp, u, metric='FNR', id_strategy='Manski')"
   ]
  },
  {
   "cell_type": "code",
   "execution_count": 10,
   "id": "0c8b7e6d",
   "metadata": {},
   "outputs": [
    {
     "data": {
      "text/plain": [
       "(-0.749942116230609,\n",
       " -0.2360884242622237,\n",
       " {'v10_down': 0,\n",
       "  'v10_up': 0.1071,\n",
       "  'v00_down': 0,\n",
       "  'v00_up': 0.3793,\n",
       "  'w10_down': 0,\n",
       "  'w10_up': 0.1071,\n",
       "  'w00_down': 0,\n",
       "  'w00_up': 0.3793})"
      ]
     },
     "execution_count": 10,
     "metadata": {},
     "output_type": "execute_result"
    }
   ],
   "source": [
    "one_step_bounds(data, dgp, u, metric='TPR', id_strategy='Manski')"
   ]
  },
  {
   "cell_type": "code",
   "execution_count": 12,
   "id": "ddca41b5",
   "metadata": {},
   "outputs": [
    {
     "data": {
      "text/plain": [
       "(-0.850673194614443,\n",
       " 0.19915254237288132,\n",
       " {'v10_down': 0,\n",
       "  'v10_up': 0.1071,\n",
       "  'v00_down': 0,\n",
       "  'v00_up': 0.3793,\n",
       "  'w10_down': 0,\n",
       "  'w10_up': 0.1071,\n",
       "  'w00_down': 0,\n",
       "  'w00_up': 0.3793})"
      ]
     },
     "execution_count": 12,
     "metadata": {},
     "output_type": "execute_result"
    }
   ],
   "source": [
    "one_step_bounds(data, dgp, u, metric='FPR', id_strategy='Manski')"
   ]
  },
  {
   "cell_type": "code",
   "execution_count": 13,
   "id": "7f83a916",
   "metadata": {},
   "outputs": [
    {
     "data": {
      "text/plain": [
       "(-0.19915254237288132,\n",
       " 0.850673194614443,\n",
       " {'v10_down': 0,\n",
       "  'v10_up': 0.1071,\n",
       "  'v00_down': 0,\n",
       "  'v00_up': 0.3793,\n",
       "  'w10_down': 0,\n",
       "  'w10_up': 0.1071,\n",
       "  'w00_down': 0,\n",
       "  'w00_up': 0.3793})"
      ]
     },
     "execution_count": 13,
     "metadata": {},
     "output_type": "execute_result"
    }
   ],
   "source": [
    "one_step_bounds(data, dgp, u, metric='TNR', id_strategy='Manski')"
   ]
  },
  {
   "cell_type": "code",
   "execution_count": 14,
   "id": "7d87e622",
   "metadata": {},
   "outputs": [
    {
     "data": {
      "text/plain": [
       "(0.0712532454400191,\n",
       " 0.8668639053254438,\n",
       " {'v10_down': 0,\n",
       "  'v10_up': 0.1071,\n",
       "  'v00_down': 0,\n",
       "  'v00_up': 0.3793,\n",
       "  'w10_down': 0,\n",
       "  'w10_up': 0.1071,\n",
       "  'w00_down': 0,\n",
       "  'w00_up': 0.3793})"
      ]
     },
     "execution_count": 14,
     "metadata": {},
     "output_type": "execute_result"
    }
   ],
   "source": [
    "two_step_bounds(data, dgp, u, metric='FNR', id_strategy='Manski')"
   ]
  },
  {
   "cell_type": "code",
   "execution_count": 15,
   "id": "e7d55bcd",
   "metadata": {},
   "outputs": [
    {
     "data": {
      "text/plain": [
       "(-0.8668639053254438,\n",
       " -0.07125324544001915,\n",
       " {'v10_down': 0,\n",
       "  'v10_up': 0.1071,\n",
       "  'v00_down': 0,\n",
       "  'v00_up': 0.3793,\n",
       "  'w10_down': 0,\n",
       "  'w10_up': 0.1071,\n",
       "  'w00_down': 0,\n",
       "  'w00_up': 0.3793})"
      ]
     },
     "execution_count": 15,
     "metadata": {},
     "output_type": "execute_result"
    }
   ],
   "source": [
    "two_step_bounds(data, dgp, u, metric='TPR', id_strategy='Manski')"
   ]
  },
  {
   "cell_type": "code",
   "execution_count": 16,
   "id": "adf001e4",
   "metadata": {},
   "outputs": [
    {
     "data": {
      "text/plain": [
       "-0.2995747970622342"
      ]
     },
     "execution_count": 16,
     "metadata": {},
     "output_type": "execute_result"
    }
   ],
   "source": [
    "oracle_regret(data, u, metric='TPR')"
   ]
  },
  {
   "cell_type": "code",
   "execution_count": 17,
   "id": "4f6cfdaa",
   "metadata": {},
   "outputs": [
    {
     "data": {
      "text/plain": [
       "0.2995747970622342"
      ]
     },
     "execution_count": 17,
     "metadata": {},
     "output_type": "execute_result"
    }
   ],
   "source": [
    "oracle_regret(data, u, metric='FNR')"
   ]
  },
  {
   "cell_type": "code",
   "execution_count": 3,
   "id": "b1c0ae5e",
   "metadata": {},
   "outputs": [],
   "source": [
    "nz = 10\n",
    "dgp = {\n",
    "    'N': 10000,\n",
    "    'nz': nz,\n",
    "    'beta': 2.5*(1/nz) ,\n",
    "    'wa': np.array([-1.95, .01, 2, .01]), \n",
    "    'wd': np.array([-1.1, 1.7, .01, 1.5, .2, .2]),\n",
    "    'w_mu1': np.array([1.3, .8, .02, .9, .3, .6]),\n",
    "    'w_mu0': np.array([1.5, .05, 1.8, .05, .2, .5])\n",
    "}\n",
    "\n",
    "u = np.array([[0,-1], [-20, 0]])\n",
    "\n",
    "metric='TNR'\n",
    "id_strategies = ['IV', 'Manski']\n",
    "regret_runs = run_sigmoid_dgp_simulation(dgp, u, metric, id_strategies, n_runs=10)\n",
    "regret_df = regret_runs.groupby(['tag', 'ID_type']).mean().reset_index()\n",
    "\n",
    "regret_df = regret_df.sort_values(by='tag', ascending=True)\n",
    "regret_runs = regret_runs.sort_values(by='tag', ascending=True)\n",
    "\n",
    "\n"
   ]
  },
  {
   "cell_type": "markdown",
   "id": "55c41a12",
   "metadata": {},
   "source": [
    "# Main result plot"
   ]
  },
  {
   "cell_type": "code",
   "execution_count": 18,
   "id": "7e105d42",
   "metadata": {},
   "outputs": [
    {
     "ename": "NameError",
     "evalue": "name 'bound_plot' is not defined",
     "output_type": "error",
     "traceback": [
      "\u001b[0;31m---------------------------------------------------------------------------\u001b[0m",
      "\u001b[0;31mNameError\u001b[0m                                 Traceback (most recent call last)",
      "\u001b[0;32m/var/folders/w_/rwxvw5hn1ng2qvm6353gkvqw0000gr/T/ipykernel_46274/116713824.py\u001b[0m in \u001b[0;36m<module>\u001b[0;34m\u001b[0m\n\u001b[1;32m      1\u001b[0m \u001b[0;31m# Subgroup-level plot\u001b[0m\u001b[0;34m\u001b[0m\u001b[0;34m\u001b[0m\u001b[0m\n\u001b[0;32m----> 2\u001b[0;31m \u001b[0mbound_plot\u001b[0m\u001b[0;34m(\u001b[0m\u001b[0mmetric\u001b[0m\u001b[0;34m,\u001b[0m \u001b[0mregret_df\u001b[0m\u001b[0;34m,\u001b[0m \u001b[0mregret_runs\u001b[0m\u001b[0;34m,\u001b[0m \u001b[0msave\u001b[0m\u001b[0;34m=\u001b[0m\u001b[0;32mFalse\u001b[0m\u001b[0;34m)\u001b[0m\u001b[0;34m\u001b[0m\u001b[0;34m\u001b[0m\u001b[0m\n\u001b[0m",
      "\u001b[0;31mNameError\u001b[0m: name 'bound_plot' is not defined"
     ]
    }
   ],
   "source": [
    "# Subgroup-level plot\n",
    "bound_plot(metric, regret_df, regret_runs, save=False)"
   ]
  },
  {
   "cell_type": "markdown",
   "id": "3e203d90",
   "metadata": {},
   "source": [
    "# Policy value plot"
   ]
  },
  {
   "cell_type": "code",
   "execution_count": 6,
   "id": "259edda3",
   "metadata": {},
   "outputs": [
    {
     "data": {
      "image/png": "[encoded data removed]",
      "text/plain": [
       "<Figure size 432x288 with 1 Axes>"
      ]
     },
     "metadata": {
      "needs_background": "light"
     },
     "output_type": "display_data"
    }
   ],
   "source": [
    "nz = 10\n",
    "n_runs = 5\n",
    "\n",
    "dgp = {\n",
    "    'N': 15000,\n",
    "    'nz': nz,\n",
    "    'beta': 2.5*(1/nz) ,\n",
    "    'wa': np.array([-1.6, .01, 2, .01]), \n",
    "    'wd': np.array([-1, 1.7, .01, 1.5, .2, .2]),\n",
    "    'w_mu1': np.array([.12, .8, .02, .9, .3, .6]),\n",
    "    'w_mu0': np.array([.33, .05, 1.8, .05, .2, .5])\n",
    "}\n",
    "\n",
    "id_strategies=['MSM']\n",
    "\n",
    "results = pv_simulation(dgp, id_strategies, n_runs)\n",
    "\n",
    "crdf = pd.concat(results)\n",
    "crdf = crdf[crdf['tag'] == 'Population']\n",
    "crdf = crdf.sort_values(by='cost_ratio')\n",
    "crdf = crdf.groupby('cost_ratio').mean().reset_index()\n",
    "\n",
    "plt.axhline(0, color='grey', zorder=1, linestyle='--')\n",
    "plt.fill_between(crdf['cost_ratio'], crdf['TS_down'],crdf['TS_up'], alpha=.5, label='R_{standard}')\n",
    "plt.fill_between(crdf['cost_ratio'], crdf['OS_down'],crdf['OS_up'], alpha=.5, label='R_{\\delta}')\n",
    "plt.plot(crdf['cost_ratio'], crdf['R'], color='k', label='Oracle')\n",
    "plt.xscale('log',base=10) \n",
    "plt.legend(loc='lower right')\n",
    "\n",
    "plt.xlabel('$\\delta$', fontsize=18)\n",
    "plt.ylabel('PV Regret', fontsize=16)\n",
    "plt.savefig('figs/pv_regret.png', dpi=400, bbox_inches='tight')"
   ]
  },
  {
   "cell_type": "code",
   "execution_count": 43,
   "id": "c0ad03c5",
   "metadata": {},
   "outputs": [
    {
     "data": {
      "text/plain": [
       "Index(['v11', 'v01', 'w11', 'w01', 'v10_true', 'v00_true', 'w10_true',\n",
       "       'w00_true', 'TS_down', 'TS_up', 'OS_down', 'OS_up', 'ID_type', 'SR',\n",
       "       'pG', 'tag', 'R', 'run', 'metric', 'v10_down', 'v10_up', 'v00_down',\n",
       "       'v00_up', 'w10_down', 'w10_up', 'w00_down', 'w00_up', 'ASR', 'ASD',\n",
       "       'pD', 'pA', 'pY'],\n",
       "      dtype='object')"
      ]
     },
     "execution_count": 43,
     "metadata": {},
     "output_type": "execute_result"
    }
   ],
   "source": [
    "crdf.columns"
   ]
  },
  {
   "cell_type": "code",
   "execution_count": 2,
   "id": "4b32ebd7",
   "metadata": {},
   "outputs": [
    {
     "ename": "NameError",
     "evalue": "name 'DAY_bernoulli_simulation' is not defined",
     "output_type": "error",
     "traceback": [
      "\u001b[0;31m---------------------------------------------------------------------------\u001b[0m",
      "\u001b[0;31mNameError\u001b[0m                                 Traceback (most recent call last)",
      "\u001b[0;32m/var/folders/w_/rwxvw5hn1ng2qvm6353gkvqw0000gr/T/ipykernel_35797/2289224556.py\u001b[0m in \u001b[0;36m<module>\u001b[0;34m\u001b[0m\n\u001b[1;32m      5\u001b[0m \u001b[0mmetrics\u001b[0m \u001b[0;34m=\u001b[0m \u001b[0;34m[\u001b[0m\u001b[0;34m'FPR'\u001b[0m\u001b[0;34m,\u001b[0m \u001b[0;34m'FNR'\u001b[0m\u001b[0;34m,\u001b[0m \u001b[0;34m'TPR'\u001b[0m\u001b[0;34m,\u001b[0m \u001b[0;34m'TNR'\u001b[0m\u001b[0;34m,\u001b[0m \u001b[0;34m'ACCURACY'\u001b[0m\u001b[0;34m,\u001b[0m \u001b[0;34m'PPV'\u001b[0m\u001b[0;34m,\u001b[0m \u001b[0;34m'NPV'\u001b[0m\u001b[0;34m]\u001b[0m\u001b[0;34m\u001b[0m\u001b[0;34m\u001b[0m\u001b[0m\n\u001b[1;32m      6\u001b[0m \u001b[0;34m\u001b[0m\u001b[0m\n\u001b[0;32m----> 7\u001b[0;31m \u001b[0mresults\u001b[0m \u001b[0;34m=\u001b[0m \u001b[0mDAY_bernoulli_simulation\u001b[0m\u001b[0;34m(\u001b[0m\u001b[0mN\u001b[0m\u001b[0;34m,\u001b[0m \u001b[0mid_strategies\u001b[0m\u001b[0;34m,\u001b[0m \u001b[0mmetrics\u001b[0m\u001b[0;34m,\u001b[0m \u001b[0mn_runs\u001b[0m\u001b[0;34m)\u001b[0m\u001b[0;34m\u001b[0m\u001b[0;34m\u001b[0m\u001b[0m\n\u001b[0m\u001b[1;32m      8\u001b[0m \u001b[0;34m\u001b[0m\u001b[0m\n\u001b[1;32m      9\u001b[0m \u001b[0mcrdf\u001b[0m \u001b[0;34m=\u001b[0m \u001b[0mpd\u001b[0m\u001b[0;34m.\u001b[0m\u001b[0mDataFrame\u001b[0m\u001b[0;34m(\u001b[0m\u001b[0mresults\u001b[0m\u001b[0;34m)\u001b[0m\u001b[0;34m\u001b[0m\u001b[0;34m\u001b[0m\u001b[0m\n",
      "\u001b[0;31mNameError\u001b[0m: name 'DAY_bernoulli_simulation' is not defined"
     ]
    }
   ],
   "source": [
    "## Policy value plot\n",
    "N=20000\n",
    "n_runs = 2\n",
    "id_strategies=['Manski']\n",
    "metrics = ['FPR', 'FNR', 'TPR', 'TNR', 'ACCURACY', 'PPV', 'NPV']\n",
    "\n",
    "results = DAY_bernoulli_simulation(N, id_strategies, metrics, n_runs)\n",
    "\n",
    "crdf = pd.DataFrame(results)\n",
    "delta00 = (crdf['w00_up'] - crdf['w00_down'])\n",
    "delta10 = (crdf['w10_up'] - crdf['w10_down'])\n",
    "\n",
    "v_up = crdf['v11'] + crdf['v01'] + crdf['v10_up'] + crdf['v00_up']\n",
    "v_down = crdf['v11'] + crdf['v01'] + crdf['v10_down'] + crdf['v00_down']\n",
    "\n",
    "crdf['rho_00'] = crdf['v00_true'] + crdf['w00_true']\n",
    "crdf['rho_01'] = crdf['v01'] + crdf['w01']\n",
    "crdf['rho_10'] = crdf['v10_true'] + crdf['w10_true']\n",
    "crdf['rho_11'] = crdf['v11'] + crdf['w11']\n",
    "\n",
    "crdf['pD'] = crdf['v11'] + crdf['v01'] + crdf['w01'] + crdf['w11']\n",
    "crdf['pT'] = crdf['v10_true'] + crdf['v11'] + crdf['w10_true'] + crdf['w11']\n",
    "\n",
    "crdf['n_pD'] = 1 - crdf['pD']\n",
    "crdf['n_pT'] = 1 - crdf['pT']\n",
    "\n",
    "crdf['pY'] = crdf['v11'] + crdf['v01'] + crdf['v10_true'] + crdf['v00_true']\n",
    "\n",
    "crdf['PC'] = (delta00*crdf['v11'])/(v_up**2)\n",
    "crdf['NC'] = (delta00*crdf['w11'])/((1-v_down)**2)\n",
    "\n",
    "crdf['NPV_bound'] = (delta00)/crdf[['n_pD', 'n_pT']].max(axis=1)\n",
    "crdf['ACCURACY'] = delta00\n",
    "\n"
   ]
  },
  {
   "cell_type": "code",
   "execution_count": 3,
   "id": "d0b5f984",
   "metadata": {},
   "outputs": [],
   "source": [
    "\n",
    "# Group by bound improvement metrics\n",
    "\n",
    "def plot_metrics(crdf, metrics, bound_keys, axis_titles, n_bins=20):\n",
    "\n",
    "    n_metrics = len(metrics)\n",
    "\n",
    "    fig, axs = plt.subplots(1, len(metrics), figsize=(5*n_metrics, 5), sharey=False)\n",
    "    \n",
    "    if n_metrics == 1:\n",
    "        axs = list([axs])\n",
    "\n",
    "    for i, metric in enumerate(metrics):\n",
    "    \n",
    "        mdf = crdf[crdf['metric'] == metric]\n",
    "        bound_var = bound_keys[i]\n",
    "    \n",
    "        mdf[bound_var] = (mdf[bound_var]*n_bins).round()/n_bins\n",
    "        mdf = mdf.groupby([bound_var]).mean().reset_index()\n",
    "        mdf = mdf.sort_values(by=bound_var, ascending=True)\n",
    "\n",
    "        axs[i].fill_between(mdf[bound_var], mdf['TS_down'], mdf['TS_up'], alpha=.5, label='$R$')\n",
    "        axs[i].fill_between(mdf[bound_var], mdf['OS_down'],mdf['OS_up'], alpha=.5, label='$R_{\\delta}$')\n",
    "        axs[i].plot(mdf[bound_var], mdf[f'R'], color='k', label='Oracle')\n",
    "        axs[i].set_title(metric, fontsize=18)\n",
    "        axs[i].axhline(color='grey', alpha=.2)\n",
    "\n",
    "        axs[i].set_xlabel(axis_titles[i], fontsize=18)\n",
    "\n",
    "\n",
    "    axs[0].set_ylabel('Regret', fontsize=18)\n",
    "    axs[0].legend()\n",
    "    plt.tight_layout()\n",
    "    metric_string = '_'.join(metrics)\n",
    "    plt.savefig(f'figs/{metric_string}_bound_plots.png', dpi=500, bbox_inches='tight')\n"
   ]
  },
  {
   "cell_type": "code",
   "execution_count": 16,
   "id": "4f6945f5",
   "metadata": {
    "scrolled": true
   },
   "outputs": [
    {
     "ename": "KeyError",
     "evalue": "'metric'",
     "output_type": "error",
     "traceback": [
      "\u001b[0;31m---------------------------------------------------------------------------\u001b[0m",
      "\u001b[0;31mKeyError\u001b[0m                                  Traceback (most recent call last)",
      "\u001b[0;32m/usr/local/lib/python3.9/site-packages/pandas/core/indexes/base.py\u001b[0m in \u001b[0;36mget_loc\u001b[0;34m(self, key, method, tolerance)\u001b[0m\n\u001b[1;32m   3620\u001b[0m             \u001b[0;32mtry\u001b[0m\u001b[0;34m:\u001b[0m\u001b[0;34m\u001b[0m\u001b[0;34m\u001b[0m\u001b[0m\n\u001b[0;32m-> 3621\u001b[0;31m                 \u001b[0;32mreturn\u001b[0m \u001b[0mself\u001b[0m\u001b[0;34m.\u001b[0m\u001b[0m_engine\u001b[0m\u001b[0;34m.\u001b[0m\u001b[0mget_loc\u001b[0m\u001b[0;34m(\u001b[0m\u001b[0mcasted_key\u001b[0m\u001b[0;34m)\u001b[0m\u001b[0;34m\u001b[0m\u001b[0;34m\u001b[0m\u001b[0m\n\u001b[0m\u001b[1;32m   3622\u001b[0m             \u001b[0;32mexcept\u001b[0m \u001b[0mKeyError\u001b[0m \u001b[0;32mas\u001b[0m \u001b[0merr\u001b[0m\u001b[0;34m:\u001b[0m\u001b[0;34m\u001b[0m\u001b[0;34m\u001b[0m\u001b[0m\n",
      "\u001b[0;32mpandas/_libs/index.pyx\u001b[0m in \u001b[0;36mpandas._libs.index.IndexEngine.get_loc\u001b[0;34m()\u001b[0m\n",
      "\u001b[0;32mpandas/_libs/index.pyx\u001b[0m in \u001b[0;36mpandas._libs.index.IndexEngine.get_loc\u001b[0;34m()\u001b[0m\n",
      "\u001b[0;32mpandas/_libs/hashtable_class_helper.pxi\u001b[0m in \u001b[0;36mpandas._libs.hashtable.PyObjectHashTable.get_item\u001b[0;34m()\u001b[0m\n",
      "\u001b[0;32mpandas/_libs/hashtable_class_helper.pxi\u001b[0m in \u001b[0;36mpandas._libs.hashtable.PyObjectHashTable.get_item\u001b[0;34m()\u001b[0m\n",
      "\u001b[0;31mKeyError\u001b[0m: 'metric'",
      "\nThe above exception was the direct cause of the following exception:\n",
      "\u001b[0;31mKeyError\u001b[0m                                  Traceback (most recent call last)",
      "\u001b[0;32m/var/folders/w_/rwxvw5hn1ng2qvm6353gkvqw0000gr/T/ipykernel_46274/3626943012.py\u001b[0m in \u001b[0;36m<module>\u001b[0;34m\u001b[0m\n\u001b[1;32m      4\u001b[0m \u001b[0;34m\u001b[0m\u001b[0m\n\u001b[1;32m      5\u001b[0m \u001b[0;34m\u001b[0m\u001b[0m\n\u001b[0;32m----> 6\u001b[0;31m \u001b[0mplot_metrics\u001b[0m\u001b[0;34m(\u001b[0m\u001b[0mcrdf\u001b[0m\u001b[0;34m,\u001b[0m \u001b[0mmetrics\u001b[0m\u001b[0;34m,\u001b[0m \u001b[0mbound_keys\u001b[0m\u001b[0;34m,\u001b[0m \u001b[0maxis_titles\u001b[0m\u001b[0;34m,\u001b[0m \u001b[0mn_bins\u001b[0m\u001b[0;34m=\u001b[0m\u001b[0;36m25\u001b[0m\u001b[0;34m)\u001b[0m\u001b[0;34m\u001b[0m\u001b[0;34m\u001b[0m\u001b[0m\n\u001b[0m",
      "\u001b[0;32m/var/folders/w_/rwxvw5hn1ng2qvm6353gkvqw0000gr/T/ipykernel_46274/600324973.py\u001b[0m in \u001b[0;36mplot_metrics\u001b[0;34m(crdf, metrics, bound_keys, axis_titles, n_bins)\u001b[0m\n\u001b[1;32m     12\u001b[0m     \u001b[0;32mfor\u001b[0m \u001b[0mi\u001b[0m\u001b[0;34m,\u001b[0m \u001b[0mmetric\u001b[0m \u001b[0;32min\u001b[0m \u001b[0menumerate\u001b[0m\u001b[0;34m(\u001b[0m\u001b[0mmetrics\u001b[0m\u001b[0;34m)\u001b[0m\u001b[0;34m:\u001b[0m\u001b[0;34m\u001b[0m\u001b[0;34m\u001b[0m\u001b[0m\n\u001b[1;32m     13\u001b[0m \u001b[0;34m\u001b[0m\u001b[0m\n\u001b[0;32m---> 14\u001b[0;31m         \u001b[0mmdf\u001b[0m \u001b[0;34m=\u001b[0m \u001b[0mcrdf\u001b[0m\u001b[0;34m[\u001b[0m\u001b[0mcrdf\u001b[0m\u001b[0;34m[\u001b[0m\u001b[0;34m'metric'\u001b[0m\u001b[0;34m]\u001b[0m \u001b[0;34m==\u001b[0m \u001b[0mmetric\u001b[0m\u001b[0;34m]\u001b[0m\u001b[0;34m\u001b[0m\u001b[0;34m\u001b[0m\u001b[0m\n\u001b[0m\u001b[1;32m     15\u001b[0m         \u001b[0mbound_var\u001b[0m \u001b[0;34m=\u001b[0m \u001b[0mbound_keys\u001b[0m\u001b[0;34m[\u001b[0m\u001b[0mi\u001b[0m\u001b[0;34m]\u001b[0m\u001b[0;34m\u001b[0m\u001b[0;34m\u001b[0m\u001b[0m\n\u001b[1;32m     16\u001b[0m \u001b[0;34m\u001b[0m\u001b[0m\n",
      "\u001b[0;32m/usr/local/lib/python3.9/site-packages/pandas/core/frame.py\u001b[0m in \u001b[0;36m__getitem__\u001b[0;34m(self, key)\u001b[0m\n\u001b[1;32m   3503\u001b[0m             \u001b[0;32mif\u001b[0m \u001b[0mself\u001b[0m\u001b[0;34m.\u001b[0m\u001b[0mcolumns\u001b[0m\u001b[0;34m.\u001b[0m\u001b[0mnlevels\u001b[0m \u001b[0;34m>\u001b[0m \u001b[0;36m1\u001b[0m\u001b[0;34m:\u001b[0m\u001b[0;34m\u001b[0m\u001b[0;34m\u001b[0m\u001b[0m\n\u001b[1;32m   3504\u001b[0m                 \u001b[0;32mreturn\u001b[0m \u001b[0mself\u001b[0m\u001b[0;34m.\u001b[0m\u001b[0m_getitem_multilevel\u001b[0m\u001b[0;34m(\u001b[0m\u001b[0mkey\u001b[0m\u001b[0;34m)\u001b[0m\u001b[0;34m\u001b[0m\u001b[0;34m\u001b[0m\u001b[0m\n\u001b[0;32m-> 3505\u001b[0;31m             \u001b[0mindexer\u001b[0m \u001b[0;34m=\u001b[0m \u001b[0mself\u001b[0m\u001b[0;34m.\u001b[0m\u001b[0mcolumns\u001b[0m\u001b[0;34m.\u001b[0m\u001b[0mget_loc\u001b[0m\u001b[0;34m(\u001b[0m\u001b[0mkey\u001b[0m\u001b[0;34m)\u001b[0m\u001b[0;34m\u001b[0m\u001b[0;34m\u001b[0m\u001b[0m\n\u001b[0m\u001b[1;32m   3506\u001b[0m             \u001b[0;32mif\u001b[0m \u001b[0mis_integer\u001b[0m\u001b[0;34m(\u001b[0m\u001b[0mindexer\u001b[0m\u001b[0;34m)\u001b[0m\u001b[0;34m:\u001b[0m\u001b[0;34m\u001b[0m\u001b[0;34m\u001b[0m\u001b[0m\n\u001b[1;32m   3507\u001b[0m                 \u001b[0mindexer\u001b[0m \u001b[0;34m=\u001b[0m \u001b[0;34m[\u001b[0m\u001b[0mindexer\u001b[0m\u001b[0;34m]\u001b[0m\u001b[0;34m\u001b[0m\u001b[0;34m\u001b[0m\u001b[0m\n",
      "\u001b[0;32m/usr/local/lib/python3.9/site-packages/pandas/core/indexes/base.py\u001b[0m in \u001b[0;36mget_loc\u001b[0;34m(self, key, method, tolerance)\u001b[0m\n\u001b[1;32m   3621\u001b[0m                 \u001b[0;32mreturn\u001b[0m \u001b[0mself\u001b[0m\u001b[0;34m.\u001b[0m\u001b[0m_engine\u001b[0m\u001b[0;34m.\u001b[0m\u001b[0mget_loc\u001b[0m\u001b[0;34m(\u001b[0m\u001b[0mcasted_key\u001b[0m\u001b[0;34m)\u001b[0m\u001b[0;34m\u001b[0m\u001b[0;34m\u001b[0m\u001b[0m\n\u001b[1;32m   3622\u001b[0m             \u001b[0;32mexcept\u001b[0m \u001b[0mKeyError\u001b[0m \u001b[0;32mas\u001b[0m \u001b[0merr\u001b[0m\u001b[0;34m:\u001b[0m\u001b[0;34m\u001b[0m\u001b[0;34m\u001b[0m\u001b[0m\n\u001b[0;32m-> 3623\u001b[0;31m                 \u001b[0;32mraise\u001b[0m \u001b[0mKeyError\u001b[0m\u001b[0;34m(\u001b[0m\u001b[0mkey\u001b[0m\u001b[0;34m)\u001b[0m \u001b[0;32mfrom\u001b[0m \u001b[0merr\u001b[0m\u001b[0;34m\u001b[0m\u001b[0;34m\u001b[0m\u001b[0m\n\u001b[0m\u001b[1;32m   3624\u001b[0m             \u001b[0;32mexcept\u001b[0m \u001b[0mTypeError\u001b[0m\u001b[0;34m:\u001b[0m\u001b[0;34m\u001b[0m\u001b[0;34m\u001b[0m\u001b[0m\n\u001b[1;32m   3625\u001b[0m                 \u001b[0;31m# If we have a listlike key, _check_indexing_error will raise\u001b[0m\u001b[0;34m\u001b[0m\u001b[0;34m\u001b[0m\u001b[0m\n",
      "\u001b[0;31mKeyError\u001b[0m: 'metric'"
     ]
    },
    {
     "data": {
      "image/png": "[encoded data removed]",
      "text/plain": [
       "<Figure size 1440x360 with 4 Axes>"
      ]
     },
     "metadata": {
      "needs_background": "light"
     },
     "output_type": "display_data"
    }
   ],
   "source": [
    "metrics = ['FNR', 'TPR','FPR', 'TNR']\n",
    "bound_keys = ['PC', 'PC','NC', 'NC']\n",
    "axis_titles = ['$\\Delta_{+}$', '$\\Delta_{+}$', '$\\Delta_{-}$', '$\\Delta_{-}$']\n",
    "\n",
    "\n",
    "plot_metrics(crdf, metrics, bound_keys, axis_titles, n_bins=25)"
   ]
  },
  {
   "cell_type": "code",
   "execution_count": 17,
   "id": "576116c3",
   "metadata": {},
   "outputs": [
    {
     "ename": "KeyError",
     "evalue": "'metric'",
     "output_type": "error",
     "traceback": [
      "\u001b[0;31m---------------------------------------------------------------------------\u001b[0m",
      "\u001b[0;31mKeyError\u001b[0m                                  Traceback (most recent call last)",
      "\u001b[0;32m/usr/local/lib/python3.9/site-packages/pandas/core/indexes/base.py\u001b[0m in \u001b[0;36mget_loc\u001b[0;34m(self, key, method, tolerance)\u001b[0m\n\u001b[1;32m   3620\u001b[0m             \u001b[0;32mtry\u001b[0m\u001b[0;34m:\u001b[0m\u001b[0;34m\u001b[0m\u001b[0;34m\u001b[0m\u001b[0m\n\u001b[0;32m-> 3621\u001b[0;31m                 \u001b[0;32mreturn\u001b[0m \u001b[0mself\u001b[0m\u001b[0;34m.\u001b[0m\u001b[0m_engine\u001b[0m\u001b[0;34m.\u001b[0m\u001b[0mget_loc\u001b[0m\u001b[0;34m(\u001b[0m\u001b[0mcasted_key\u001b[0m\u001b[0;34m)\u001b[0m\u001b[0;34m\u001b[0m\u001b[0;34m\u001b[0m\u001b[0m\n\u001b[0m\u001b[1;32m   3622\u001b[0m             \u001b[0;32mexcept\u001b[0m \u001b[0mKeyError\u001b[0m \u001b[0;32mas\u001b[0m \u001b[0merr\u001b[0m\u001b[0;34m:\u001b[0m\u001b[0;34m\u001b[0m\u001b[0;34m\u001b[0m\u001b[0m\n",
      "\u001b[0;32mpandas/_libs/index.pyx\u001b[0m in \u001b[0;36mpandas._libs.index.IndexEngine.get_loc\u001b[0;34m()\u001b[0m\n",
      "\u001b[0;32mpandas/_libs/index.pyx\u001b[0m in \u001b[0;36mpandas._libs.index.IndexEngine.get_loc\u001b[0;34m()\u001b[0m\n",
      "\u001b[0;32mpandas/_libs/hashtable_class_helper.pxi\u001b[0m in \u001b[0;36mpandas._libs.hashtable.PyObjectHashTable.get_item\u001b[0;34m()\u001b[0m\n",
      "\u001b[0;32mpandas/_libs/hashtable_class_helper.pxi\u001b[0m in \u001b[0;36mpandas._libs.hashtable.PyObjectHashTable.get_item\u001b[0;34m()\u001b[0m\n",
      "\u001b[0;31mKeyError\u001b[0m: 'metric'",
      "\nThe above exception was the direct cause of the following exception:\n",
      "\u001b[0;31mKeyError\u001b[0m                                  Traceback (most recent call last)",
      "\u001b[0;32m/var/folders/w_/rwxvw5hn1ng2qvm6353gkvqw0000gr/T/ipykernel_46274/1914273637.py\u001b[0m in \u001b[0;36m<module>\u001b[0;34m\u001b[0m\n\u001b[1;32m      3\u001b[0m \u001b[0maxis_titles\u001b[0m \u001b[0;34m=\u001b[0m \u001b[0;34m[\u001b[0m\u001b[0;34m'$\\delta_{00}$'\u001b[0m\u001b[0;34m]\u001b[0m\u001b[0;34m\u001b[0m\u001b[0;34m\u001b[0m\u001b[0m\n\u001b[1;32m      4\u001b[0m \u001b[0;34m\u001b[0m\u001b[0m\n\u001b[0;32m----> 5\u001b[0;31m \u001b[0mplot_metrics\u001b[0m\u001b[0;34m(\u001b[0m\u001b[0mcrdf\u001b[0m\u001b[0;34m,\u001b[0m \u001b[0mmetrics\u001b[0m\u001b[0;34m,\u001b[0m \u001b[0mbound_keys\u001b[0m\u001b[0;34m,\u001b[0m \u001b[0maxis_titles\u001b[0m\u001b[0;34m)\u001b[0m\u001b[0;34m\u001b[0m\u001b[0;34m\u001b[0m\u001b[0m\n\u001b[0m",
      "\u001b[0;32m/var/folders/w_/rwxvw5hn1ng2qvm6353gkvqw0000gr/T/ipykernel_46274/600324973.py\u001b[0m in \u001b[0;36mplot_metrics\u001b[0;34m(crdf, metrics, bound_keys, axis_titles, n_bins)\u001b[0m\n\u001b[1;32m     12\u001b[0m     \u001b[0;32mfor\u001b[0m \u001b[0mi\u001b[0m\u001b[0;34m,\u001b[0m \u001b[0mmetric\u001b[0m \u001b[0;32min\u001b[0m \u001b[0menumerate\u001b[0m\u001b[0;34m(\u001b[0m\u001b[0mmetrics\u001b[0m\u001b[0;34m)\u001b[0m\u001b[0;34m:\u001b[0m\u001b[0;34m\u001b[0m\u001b[0;34m\u001b[0m\u001b[0m\n\u001b[1;32m     13\u001b[0m \u001b[0;34m\u001b[0m\u001b[0m\n\u001b[0;32m---> 14\u001b[0;31m         \u001b[0mmdf\u001b[0m \u001b[0;34m=\u001b[0m \u001b[0mcrdf\u001b[0m\u001b[0;34m[\u001b[0m\u001b[0mcrdf\u001b[0m\u001b[0;34m[\u001b[0m\u001b[0;34m'metric'\u001b[0m\u001b[0;34m]\u001b[0m \u001b[0;34m==\u001b[0m \u001b[0mmetric\u001b[0m\u001b[0;34m]\u001b[0m\u001b[0;34m\u001b[0m\u001b[0;34m\u001b[0m\u001b[0m\n\u001b[0m\u001b[1;32m     15\u001b[0m         \u001b[0mbound_var\u001b[0m \u001b[0;34m=\u001b[0m \u001b[0mbound_keys\u001b[0m\u001b[0;34m[\u001b[0m\u001b[0mi\u001b[0m\u001b[0;34m]\u001b[0m\u001b[0;34m\u001b[0m\u001b[0;34m\u001b[0m\u001b[0m\n\u001b[1;32m     16\u001b[0m \u001b[0;34m\u001b[0m\u001b[0m\n",
      "\u001b[0;32m/usr/local/lib/python3.9/site-packages/pandas/core/frame.py\u001b[0m in \u001b[0;36m__getitem__\u001b[0;34m(self, key)\u001b[0m\n\u001b[1;32m   3503\u001b[0m             \u001b[0;32mif\u001b[0m \u001b[0mself\u001b[0m\u001b[0;34m.\u001b[0m\u001b[0mcolumns\u001b[0m\u001b[0;34m.\u001b[0m\u001b[0mnlevels\u001b[0m \u001b[0;34m>\u001b[0m \u001b[0;36m1\u001b[0m\u001b[0;34m:\u001b[0m\u001b[0;34m\u001b[0m\u001b[0;34m\u001b[0m\u001b[0m\n\u001b[1;32m   3504\u001b[0m                 \u001b[0;32mreturn\u001b[0m \u001b[0mself\u001b[0m\u001b[0;34m.\u001b[0m\u001b[0m_getitem_multilevel\u001b[0m\u001b[0;34m(\u001b[0m\u001b[0mkey\u001b[0m\u001b[0;34m)\u001b[0m\u001b[0;34m\u001b[0m\u001b[0;34m\u001b[0m\u001b[0m\n\u001b[0;32m-> 3505\u001b[0;31m             \u001b[0mindexer\u001b[0m \u001b[0;34m=\u001b[0m \u001b[0mself\u001b[0m\u001b[0;34m.\u001b[0m\u001b[0mcolumns\u001b[0m\u001b[0;34m.\u001b[0m\u001b[0mget_loc\u001b[0m\u001b[0;34m(\u001b[0m\u001b[0mkey\u001b[0m\u001b[0;34m)\u001b[0m\u001b[0;34m\u001b[0m\u001b[0;34m\u001b[0m\u001b[0m\n\u001b[0m\u001b[1;32m   3506\u001b[0m             \u001b[0;32mif\u001b[0m \u001b[0mis_integer\u001b[0m\u001b[0;34m(\u001b[0m\u001b[0mindexer\u001b[0m\u001b[0;34m)\u001b[0m\u001b[0;34m:\u001b[0m\u001b[0;34m\u001b[0m\u001b[0;34m\u001b[0m\u001b[0m\n\u001b[1;32m   3507\u001b[0m                 \u001b[0mindexer\u001b[0m \u001b[0;34m=\u001b[0m \u001b[0;34m[\u001b[0m\u001b[0mindexer\u001b[0m\u001b[0;34m]\u001b[0m\u001b[0;34m\u001b[0m\u001b[0;34m\u001b[0m\u001b[0m\n",
      "\u001b[0;32m/usr/local/lib/python3.9/site-packages/pandas/core/indexes/base.py\u001b[0m in \u001b[0;36mget_loc\u001b[0;34m(self, key, method, tolerance)\u001b[0m\n\u001b[1;32m   3621\u001b[0m                 \u001b[0;32mreturn\u001b[0m \u001b[0mself\u001b[0m\u001b[0;34m.\u001b[0m\u001b[0m_engine\u001b[0m\u001b[0;34m.\u001b[0m\u001b[0mget_loc\u001b[0m\u001b[0;34m(\u001b[0m\u001b[0mcasted_key\u001b[0m\u001b[0;34m)\u001b[0m\u001b[0;34m\u001b[0m\u001b[0;34m\u001b[0m\u001b[0m\n\u001b[1;32m   3622\u001b[0m             \u001b[0;32mexcept\u001b[0m \u001b[0mKeyError\u001b[0m \u001b[0;32mas\u001b[0m \u001b[0merr\u001b[0m\u001b[0;34m:\u001b[0m\u001b[0;34m\u001b[0m\u001b[0;34m\u001b[0m\u001b[0m\n\u001b[0;32m-> 3623\u001b[0;31m                 \u001b[0;32mraise\u001b[0m \u001b[0mKeyError\u001b[0m\u001b[0;34m(\u001b[0m\u001b[0mkey\u001b[0m\u001b[0;34m)\u001b[0m \u001b[0;32mfrom\u001b[0m \u001b[0merr\u001b[0m\u001b[0;34m\u001b[0m\u001b[0;34m\u001b[0m\u001b[0m\n\u001b[0m\u001b[1;32m   3624\u001b[0m             \u001b[0;32mexcept\u001b[0m \u001b[0mTypeError\u001b[0m\u001b[0;34m:\u001b[0m\u001b[0;34m\u001b[0m\u001b[0;34m\u001b[0m\u001b[0m\n\u001b[1;32m   3625\u001b[0m                 \u001b[0;31m# If we have a listlike key, _check_indexing_error will raise\u001b[0m\u001b[0;34m\u001b[0m\u001b[0;34m\u001b[0m\u001b[0m\n",
      "\u001b[0;31mKeyError\u001b[0m: 'metric'"
     ]
    },
    {
     "data": {
      "image/png": "[encoded data removed]",
      "text/plain": [
       "<Figure size 360x360 with 1 Axes>"
      ]
     },
     "metadata": {
      "needs_background": "light"
     },
     "output_type": "display_data"
    }
   ],
   "source": [
    "metrics = ['ACCURACY']\n",
    "bound_keys = ['ACCURACY']\n",
    "axis_titles = ['$\\delta_{00}$']\n",
    "\n",
    "plot_metrics(crdf, metrics, bound_keys, axis_titles)"
   ]
  },
  {
   "cell_type": "code",
   "execution_count": 32,
   "id": "1ff9f22d",
   "metadata": {},
   "outputs": [
    {
     "data": {
      "image/png": "[encoded data removed]",
      "text/plain": [
       "<Figure size 360x360 with 1 Axes>"
      ]
     },
     "metadata": {
      "needs_background": "light"
     },
     "output_type": "display_data"
    }
   ],
   "source": [
    "metrics = ['PPV']\n",
    "bound_keys = ['rho_11']\n",
    "axis_titles = [r'$\\rho_{00}$']\n",
    "\n",
    "plot_metrics(crdf, metrics, bound_keys, axis_titles, n_bins=10)"
   ]
  },
  {
   "cell_type": "code",
   "execution_count": 37,
   "id": "51b3bdb1",
   "metadata": {},
   "outputs": [
    {
     "data": {
      "image/png": "[encoded data removed]",
      "text/plain": [
       "<Figure size 360x360 with 1 Axes>"
      ]
     },
     "metadata": {
      "needs_background": "light"
     },
     "output_type": "display_data"
    }
   ],
   "source": [
    "metrics = ['NPV']\n",
    "bound_keys = ['NPV_bound']\n",
    "axis_titles = [r'$\\sigma$']\n",
    "\n",
    "plot_metrics(crdf, metrics, bound_keys, axis_titles, n_bins=20)"
   ]
  },
  {
   "cell_type": "code",
   "execution_count": null,
   "id": "6b64aa9f",
   "metadata": {},
   "outputs": [],
   "source": []
  },
  {
   "cell_type": "code",
   "execution_count": 4,
   "id": "d7257832",
   "metadata": {},
   "outputs": [
    {
     "data": {
      "image/png": "[encoded data removed]",
      "text/plain": [
       "<Figure size 360x360 with 1 Axes>"
      ]
     },
     "metadata": {
      "needs_background": "light"
     },
     "output_type": "display_data"
    }
   ],
   "source": [
    "metrics = ['NPV']\n",
    "bound_keys = ['NPV_bound']\n",
    "axis_titles = ['$\\Gamma_{+}$']\n",
    "\n",
    "plot_metrics(crdf, metrics, bound_keys, axis_titles, n_bins=50)"
   ]
  },
  {
   "cell_type": "code",
   "execution_count": 53,
   "id": "0e28d87a",
   "metadata": {},
   "outputs": [
    {
     "data": {
      "text/plain": [
       "<AxesSubplot:>"
      ]
     },
     "execution_count": 53,
     "metadata": {},
     "output_type": "execute_result"
    },
    {
     "data": {
      "image/png": "[encoded data removed]",
      "text/plain": [
       "<Figure size 432x288 with 1 Axes>"
      ]
     },
     "metadata": {
      "needs_background": "light"
     },
     "output_type": "display_data"
    }
   ],
   "source": [
    "num = (crdf[crdf['NPV_bound'] < .3]['v01'] + crdf[crdf['NPV_bound'] < .3]['v11'])\n",
    "denom = (crdf[crdf['NPV_bound'] < .3]['rho_01'] + crdf[crdf['NPV_bound'] < .3]['rho_11'])\n",
    "\n",
    "(num/denom).hist()"
   ]
  },
  {
   "cell_type": "code",
   "execution_count": 33,
   "id": "a173a32f",
   "metadata": {},
   "outputs": [
    {
     "data": {
      "text/plain": [
       "(0.6223759440151626, 0.3000477426252612)"
      ]
     },
     "execution_count": 33,
     "metadata": {},
     "output_type": "execute_result"
    }
   ],
   "source": [
    "crdf['pD'].mean(), crdf['pT'].mean()"
   ]
  },
  {
   "cell_type": "markdown",
   "id": "3cc1d5e7",
   "metadata": {},
   "source": [
    "## Numeric subgroup example "
   ]
  },
  {
   "cell_type": "code",
   "execution_count": 6,
   "id": "985f95fd",
   "metadata": {},
   "outputs": [],
   "source": [
    "dgp = {\n",
    "    'pD': .19,\n",
    "    'pA': .29,\n",
    "    'pY': .1,\n",
    "    'N': 30000\n",
    "}\n",
    "\n",
    "D = np.random.binomial(1, dgp['pD'], size=dgp['N'])\n",
    "A = np.random.binomial(1, dgp['pA'], size=dgp['N'])\n",
    "Y = np.random.binomial(1, dgp['pY'], size=dgp['N'])\n",
    "\n",
    "RMAG =  np.random.binomial(1, .8, size=dgp['N'])\n",
    "DA_corr =  np.random.binomial(1, .8, size=dgp['N'])\n",
    "   \n",
    "    \n",
    "A[(D == 0) & (DA_corr == 1)] = 0\n",
    "\n",
    "D[(A == 1) & (D == 0) & (Y == 1) & (RMAG == 1)] = 1 \n",
    "A[(A == 1) & (D == 0) & (Y == 1) & (RMAG == 1)] = 0\n",
    "\n",
    "vstats = get_v_stats(D, A, Y)\n",
    "\n",
    "data = { \n",
    "    'D': D, \n",
    "    'Y': Y, \n",
    "    'A': A,\n",
    "}\n",
    "\n",
    "R_TS_down, R_TS_up = two_step_bounds(data, dgp, u, 'ACCURACY', id_strategy='Manski')\n",
    "R_OS_down, R_OS_up = one_step_bounds(data, dgp, u, 'ACCURACY', id_strategy='Manski')"
   ]
  },
  {
   "cell_type": "code",
   "execution_count": 7,
   "id": "a7228e06",
   "metadata": {},
   "outputs": [
    {
     "data": {
      "image/png": "[encoded data removed]",
      "text/plain": [
       "<Figure size 720x216 with 1 Axes>"
      ]
     },
     "metadata": {
      "needs_background": "light"
     },
     "output_type": "display_data"
    }
   ],
   "source": [
    "\n",
    "fig, ax = plt.subplots(figsize=(10,3))\n",
    "R=oracle_regret(data, u, 'ACCURACY')\n",
    "\n",
    "plt.plot([R_TS_down, R_TS_up], [0.05, 0.05], color='r', linestyle='-', label=\"$R_{ts}$\",  linewidth=4)\n",
    "plt.scatter(R_TS_down, 0.05,  color='r', s=50)\n",
    "plt.scatter(R_TS_up, 0.05,  color='r', s=50)\n",
    "\n",
    "plt.plot([R_OS_down, R_OS_up], [0, 0], color='b', linestyle='-', label=\"$R_{os}$\",  linewidth=4)\n",
    "plt.scatter(R_OS_down, 0,  color='b', s=50)\n",
    "plt.scatter(R_OS_up, 0,  color='b', s=50)\n",
    "\n",
    "plt.axvline(R, color='k', zorder=0, linestyle='-', label=\"$R^*$\")\n",
    "\n",
    "plt.axvline(color='grey', alpha=.1)\n",
    "plt.ylim([-.2,.2])\n",
    "plt.xlim([-1,1])\n",
    "plt.legend(loc='lower right')\n",
    "plt.xlabel(\"Accuracy regret\")\n",
    "plt.ylabel(\"\")\n",
    "ax.set(yticklabels=[]) \n",
    "\n",
    "plt.savefig('examples.pdf', dpi=600)"
   ]
  },
  {
   "cell_type": "markdown",
   "id": "acfb2eb2",
   "metadata": {},
   "source": [
    "## MSM bounds"
   ]
  },
  {
   "cell_type": "code",
   "execution_count": 8,
   "id": "c84ec240",
   "metadata": {},
   "outputs": [
    {
     "data": {
      "image/png": "[encoded data removed]",
      "text/plain": [
       "<Figure size 432x288 with 1 Axes>"
      ]
     },
     "metadata": {
      "needs_background": "light"
     },
     "output_type": "display_data"
    }
   ],
   "source": [
    "nz = 10\n",
    "n_runs = 10\n",
    "Lambda = 1.8\n",
    "dgp = {\n",
    "    'N': 15000,\n",
    "    'nz': nz,\n",
    "    'beta': 2.5*(1/nz) ,\n",
    "    'wa': np.array([-1.6, .01, 2, .01]), \n",
    "    'wd': np.array([-1, 1.7, .01, 1.5, .2, .2]),\n",
    "    'w_mu1': np.array([.12, .8, .02, .9, .3, .6]),\n",
    "    'w_mu0': np.array([.33, .05, 1.8, .05, .2, .5]),\n",
    "    'lambda': 1.8\n",
    "}\n",
    "\n",
    "results = []\n",
    "id_strategies=['MSM']\n",
    "\n",
    "results = pv_simulation(dgp, id_strategies, n_runs)\n",
    "crdf = pd.concat(results)\n",
    "crdf = crdf[crdf['tag'] == 'Population']\n",
    "crdf = crdf.sort_values(by='cost_ratio')\n",
    "crdf = crdf.groupby('cost_ratio').mean().reset_index()\n",
    "\n",
    "plt.axhline(0, color='grey', zorder=1, linestyle='--')\n",
    "plt.fill_between(crdf['cost_ratio'], crdf['TS_down'], crdf['TS_up'], alpha=.5, label='$R$')\n",
    "plt.fill_between(crdf['cost_ratio'], crdf['OS_down'], crdf['OS_up'], alpha=.5, label='$R_{\\delta}$')\n",
    "plt.plot(crdf['cost_ratio'], crdf['R'], color='k', label='Oracle')\n",
    "plt.xscale('log',base=10) \n",
    "plt.legend(loc='lower right')\n",
    "\n",
    "plt.xlabel('$\\sigma$', fontsize=18)\n",
    "plt.ylabel('PV Regret', fontsize=16)\n",
    "plt.title(f'MSM Bounds ($\\Lambda={Lambda}$)')\n",
    "plt.savefig('figs/msm_pv_regret.png', dpi=400, bbox_inches='tight')"
   ]
  },
  {
   "cell_type": "markdown",
   "id": "abf88eed",
   "metadata": {},
   "source": [
    "## Iterate over different values of lambda"
   ]
  },
  {
   "cell_type": "code",
   "execution_count": 10,
   "id": "c136aaf0",
   "metadata": {},
   "outputs": [],
   "source": [
    "nz = 10\n",
    "n_runs = 30\n",
    "\n",
    "dgp = {\n",
    "    'N': 15000,\n",
    "    'nz': nz,\n",
    "    'beta': 2.5*(1/nz) ,\n",
    "    'wa': np.array([-1.6, .01, 2, .01]), \n",
    "    'wd': np.array([-1, 1.7, .01, 1.5, .2, .2]),\n",
    "    'w_mu1': np.array([.12, .8, .02, .9, .3, .6]),\n",
    "    'w_mu0': np.array([.33, .05, 1.8, .05, .2, .5]),\n",
    "}\n",
    "\n",
    "design_results = []\n",
    "id_strategies=['MSM']\n",
    "lambdas = np.arange(1, 4, .05)\n",
    "\n",
    "# for lam in lambdas:\n",
    "\n",
    "for lam in lambdas:\n",
    "    dgp['lambda'] = lam\n",
    "    design_results.extend(pv_simulation(dgp, id_strategies, n_runs))\n",
    "\n",
    "crdf = pd.concat(design_results)\n",
    "crdf = crdf[crdf['tag'] == 'Population']\n",
    "crdf['TS_includes_zero'] = ((crdf['TS_down'] <= 0) & (crdf['TS_up'] >= 0)).astype(int)\n",
    "crdf['OS_includes_zero'] = ((crdf['OS_down'] <= 0) & (crdf['OS_up'] >= 0)).astype(int)\n",
    "\n"
   ]
  },
  {
   "cell_type": "code",
   "execution_count": 14,
   "id": "db935024",
   "metadata": {},
   "outputs": [
    {
     "data": {
      "image/png": "[encoded data removed]",
      "text/plain": [
       "<Figure size 432x288 with 1 Axes>"
      ]
     },
     "metadata": {
      "needs_background": "light"
     },
     "output_type": "display_data"
    }
   ],
   "source": [
    "CR=5\n",
    "crdf = pd.concat(design_results)\n",
    "crdf = crdf[crdf['tag'] == 'Population']\n",
    "crdf['TS_includes_zero'] = ((crdf['TS_down'] <= 0) & (crdf['TS_up'] >= 0)).astype(int)\n",
    "crdf['OS_includes_zero'] = ((crdf['OS_down'] <= 0) & (crdf['OS_up'] >= 0)).astype(int)\n",
    "\n",
    "sdf = crdf[(crdf['tag'] == 'Population') & (crdf['cost_ratio'] == CR)]\n",
    "sdf = sdf.groupby(['cost_ratio', 'lambda']).mean().reset_index()\n",
    "sdf['TS_includes_zero'] = ((sdf['TS_down'] <= 0) & (sdf['TS_up'] >= 0)).astype(int)\n",
    "sdf['OS_includes_zero'] = ((sdf['OS_down'] <= 0) & (sdf['OS_up'] >= 0)).astype(int)\n",
    "TS_lambda_star = sdf[sdf['TS_includes_zero'] == 1]['lambda'].min()\n",
    "OS_lambda_star = sdf[sdf['OS_includes_zero'] == 1]['lambda'].min()\n",
    "\n",
    "crdf = pd.concat(design_results)\n",
    "crdf = crdf[(crdf['tag'] == 'Population') & (crdf['cost_ratio'] == CR)]\n",
    "\n",
    "plt.text(TS_lambda_star+.05, -1.1, '$\\Lambda^*_{R}$', fontsize=14)\n",
    "plt.text(OS_lambda_star+.05, -1.1, '$\\Lambda^*_{R_\\delta}$', fontsize=14)\n",
    "\n",
    "crdf = crdf.sort_values(by='lambda')\n",
    "crdf = crdf.groupby('lambda').mean().reset_index()\n",
    "\n",
    "plt.fill_between(crdf['lambda'], crdf['TS_down'], crdf['TS_up'], alpha=.5, label='$R$')\n",
    "plt.fill_between(crdf['lambda'], crdf['OS_down'], crdf['OS_up'], alpha=.5, label='$R_{\\delta}$')\n",
    "plt.plot(crdf['lambda'], crdf['R'], color='k', label='Oracle')\n",
    "\n",
    "plt.axhline(0, color='grey', zorder=1, linestyle='--')\n",
    "plt.axvline(TS_lambda_star, color='grey', zorder=1, linestyle='--')\n",
    "plt.axvline(OS_lambda_star, color='grey', zorder=1, linestyle='--')\n",
    "\n",
    "\n",
    "plt.xlabel('$\\Lambda$', fontsize=16)\n",
    "plt.ylabel('PV Regret', fontsize=16)\n",
    "plt.legend(loc='upper right')\n",
    "plt.title(f'MSM Bounds ($\\sigma=5$)')\n",
    "\n",
    "plt.savefig('figs/pv_lambda_slider.png', dpi=400, bbox_inches='tight')\n",
    "\n",
    "# Fix cost ratio, vary lambda, include virtical line for Lambda^*"
   ]
  },
  {
   "cell_type": "markdown",
   "id": "2e50cfae",
   "metadata": {},
   "source": [
    "## Design sensitivity plot"
   ]
  },
  {
   "cell_type": "code",
   "execution_count": 146,
   "id": "92f9b9af",
   "metadata": {},
   "outputs": [
    {
     "data": {
      "image/png": "[encoded data removed]",
      "text/plain": [
       "<Figure size 432x288 with 1 Axes>"
      ]
     },
     "metadata": {
      "needs_background": "light"
     },
     "output_type": "display_data"
    }
   ],
   "source": [
    "crdf = pd.concat(design_results)\n",
    "crdf = crdf[crdf['tag'] == 'Population']\n",
    "crdf['TS_includes_zero'] = ((crdf['TS_down'] <= 0) & (crdf['TS_up'] >= 0)).astype(int)\n",
    "crdf['OS_includes_zero'] = ((crdf['OS_down'] <= 0) & (crdf['OS_up'] >= 0)).astype(int)\n",
    "\n",
    "ls_results = []\n",
    "\n",
    "for cr in crdf['cost_ratio'].unique():\n",
    "    for run in crdf['run'].unique():\n",
    "        crslice = crdf[(crdf['cost_ratio'] == cr) & (crdf['run'] == run)]\n",
    "        ts_lambda_star = crslice[crslice['TS_includes_zero'] == 1]['lambda'].min()\n",
    "        os_lambda_star = crslice[crslice['OS_includes_zero'] == 1]['lambda'].min()\n",
    "    \n",
    "\n",
    "        ls_results.append({\n",
    "            'cr': cr,\n",
    "            'Two step': ts_lambda_star,\n",
    "            'One step': os_lambda_star,\n",
    "            'run': run\n",
    "        })\n",
    "    lsdf = pd.DataFrame(ls_results)\n",
    "    \n",
    "lsdf = lsdf.sort_values(by='cr')\n",
    "lsdf = lsdf.melt(id_vars=['cr', 'run'])\n",
    "\n",
    "sns.lineplot(data=lsdf, x=\"cr\", y=\"value\", hue='variable')\n",
    "plt.xlabel('$\\delta$', fontsize=18)\n",
    "plt.ylabel('$\\Lambda^{*}$', fontsize=16)\n",
    "plt.xscale('log',base=10) \n",
    "plt.legend(loc='lower right')\n",
    "\n",
    "plt.savefig('figs/pv_lambds_delta_slider.png', dpi=400, bbox_inches='tight')"
   ]
  },
  {
   "cell_type": "markdown",
   "id": "d325eaa2",
   "metadata": {},
   "source": [
    "## Empirical demonstration with Obermeyer et al data"
   ]
  },
  {
   "cell_type": "code",
   "execution_count": 95,
   "id": "f947702e",
   "metadata": {},
   "outputs": [
    {
     "data": {
      "text/plain": [
       "0.28672104766661116"
      ]
     },
     "execution_count": 95,
     "metadata": {},
     "output_type": "execute_result"
    }
   ],
   "source": [
    "(data['risk_score_t'] > 5).astype(int).mean()"
   ]
  },
  {
   "cell_type": "code",
   "execution_count": 85,
   "id": "b537806e",
   "metadata": {},
   "outputs": [],
   "source": [
    "data = pd.read_csv('data/obermeyer.csv')\n",
    "data['D'] = pd.Categorical(data['program_enrolled_t'])\n",
    "data['A'] = pd.Categorical((data['risk_score_t'] > 20).astype(int))\n",
    "data['A'] = data['arrhythmia_elixhauser_tm1']\n",
    "\n",
    "data['Y'] = (data['gagne_sum_t'] >= 2).astype(int)\n",
    "\n",
    "\n"
   ]
  },
  {
   "cell_type": "code",
   "execution_count": 78,
   "id": "f7aab4f3",
   "metadata": {},
   "outputs": [
    {
     "data": {
      "text/html": [
       "<div>\n",
       "<style scoped>\n",
       "    .dataframe tbody tr th:only-of-type {\n",
       "        vertical-align: middle;\n",
       "    }\n",
       "\n",
       "    .dataframe tbody tr th {\n",
       "        vertical-align: top;\n",
       "    }\n",
       "\n",
       "    .dataframe thead th {\n",
       "        text-align: right;\n",
       "    }\n",
       "</style>\n",
       "<table border=\"1\" class=\"dataframe\">\n",
       "  <thead>\n",
       "    <tr style=\"text-align: right;\">\n",
       "      <th></th>\n",
       "      <th>risk_score_t</th>\n",
       "      <th>program_enrolled_t</th>\n",
       "      <th>cost_t</th>\n",
       "      <th>cost_avoidable_t</th>\n",
       "      <th>bps_mean_t</th>\n",
       "      <th>ghba1c_mean_t</th>\n",
       "      <th>hct_mean_t</th>\n",
       "      <th>cre_mean_t</th>\n",
       "      <th>ldl_mean_t</th>\n",
       "      <th>race</th>\n",
       "      <th>...</th>\n",
       "      <th>trig_mean-high_tm1</th>\n",
       "      <th>trig_mean-normal_tm1</th>\n",
       "      <th>trig_max-low_tm1</th>\n",
       "      <th>trig_max-high_tm1</th>\n",
       "      <th>trig_max-normal_tm1</th>\n",
       "      <th>gagne_sum_tm1</th>\n",
       "      <th>gagne_sum_t</th>\n",
       "      <th>D</th>\n",
       "      <th>A</th>\n",
       "      <th>Y</th>\n",
       "    </tr>\n",
       "  </thead>\n",
       "  <tbody>\n",
       "    <tr>\n",
       "      <th>8</th>\n",
       "      <td>1.087141</td>\n",
       "      <td>0</td>\n",
       "      <td>1000.0</td>\n",
       "      <td>0.0</td>\n",
       "      <td>118.0</td>\n",
       "      <td>5.800000</td>\n",
       "      <td>39.1</td>\n",
       "      <td>0.490000</td>\n",
       "      <td>78.0</td>\n",
       "      <td>black</td>\n",
       "      <td>...</td>\n",
       "      <td>0</td>\n",
       "      <td>1</td>\n",
       "      <td>1</td>\n",
       "      <td>0</td>\n",
       "      <td>1</td>\n",
       "      <td>1</td>\n",
       "      <td>1</td>\n",
       "      <td>0</td>\n",
       "      <td>0</td>\n",
       "      <td>1</td>\n",
       "    </tr>\n",
       "    <tr>\n",
       "      <th>20</th>\n",
       "      <td>11.092237</td>\n",
       "      <td>0</td>\n",
       "      <td>2900.0</td>\n",
       "      <td>0.0</td>\n",
       "      <td>124.0</td>\n",
       "      <td>NaN</td>\n",
       "      <td>NaN</td>\n",
       "      <td>NaN</td>\n",
       "      <td>NaN</td>\n",
       "      <td>black</td>\n",
       "      <td>...</td>\n",
       "      <td>0</td>\n",
       "      <td>0</td>\n",
       "      <td>0</td>\n",
       "      <td>0</td>\n",
       "      <td>0</td>\n",
       "      <td>4</td>\n",
       "      <td>2</td>\n",
       "      <td>0</td>\n",
       "      <td>0</td>\n",
       "      <td>1</td>\n",
       "    </tr>\n",
       "    <tr>\n",
       "      <th>23</th>\n",
       "      <td>0.611517</td>\n",
       "      <td>0</td>\n",
       "      <td>1900.0</td>\n",
       "      <td>400.0</td>\n",
       "      <td>106.0</td>\n",
       "      <td>NaN</td>\n",
       "      <td>NaN</td>\n",
       "      <td>NaN</td>\n",
       "      <td>NaN</td>\n",
       "      <td>black</td>\n",
       "      <td>...</td>\n",
       "      <td>0</td>\n",
       "      <td>1</td>\n",
       "      <td>0</td>\n",
       "      <td>0</td>\n",
       "      <td>1</td>\n",
       "      <td>0</td>\n",
       "      <td>0</td>\n",
       "      <td>0</td>\n",
       "      <td>0</td>\n",
       "      <td>0</td>\n",
       "    </tr>\n",
       "    <tr>\n",
       "      <th>30</th>\n",
       "      <td>4.552404</td>\n",
       "      <td>0</td>\n",
       "      <td>1900.0</td>\n",
       "      <td>100.0</td>\n",
       "      <td>140.0</td>\n",
       "      <td>6.233333</td>\n",
       "      <td>40.8</td>\n",
       "      <td>1.000000</td>\n",
       "      <td>81.0</td>\n",
       "      <td>black</td>\n",
       "      <td>...</td>\n",
       "      <td>0</td>\n",
       "      <td>0</td>\n",
       "      <td>1</td>\n",
       "      <td>0</td>\n",
       "      <td>0</td>\n",
       "      <td>1</td>\n",
       "      <td>1</td>\n",
       "      <td>0</td>\n",
       "      <td>0</td>\n",
       "      <td>1</td>\n",
       "    </tr>\n",
       "    <tr>\n",
       "      <th>47</th>\n",
       "      <td>1.885510</td>\n",
       "      <td>0</td>\n",
       "      <td>2000.0</td>\n",
       "      <td>0.0</td>\n",
       "      <td>123.0</td>\n",
       "      <td>NaN</td>\n",
       "      <td>37.9</td>\n",
       "      <td>0.955000</td>\n",
       "      <td>NaN</td>\n",
       "      <td>black</td>\n",
       "      <td>...</td>\n",
       "      <td>0</td>\n",
       "      <td>0</td>\n",
       "      <td>0</td>\n",
       "      <td>0</td>\n",
       "      <td>0</td>\n",
       "      <td>1</td>\n",
       "      <td>1</td>\n",
       "      <td>0</td>\n",
       "      <td>0</td>\n",
       "      <td>1</td>\n",
       "    </tr>\n",
       "    <tr>\n",
       "      <th>...</th>\n",
       "      <td>...</td>\n",
       "      <td>...</td>\n",
       "      <td>...</td>\n",
       "      <td>...</td>\n",
       "      <td>...</td>\n",
       "      <td>...</td>\n",
       "      <td>...</td>\n",
       "      <td>...</td>\n",
       "      <td>...</td>\n",
       "      <td>...</td>\n",
       "      <td>...</td>\n",
       "      <td>...</td>\n",
       "      <td>...</td>\n",
       "      <td>...</td>\n",
       "      <td>...</td>\n",
       "      <td>...</td>\n",
       "      <td>...</td>\n",
       "      <td>...</td>\n",
       "      <td>...</td>\n",
       "      <td>...</td>\n",
       "      <td>...</td>\n",
       "    </tr>\n",
       "    <tr>\n",
       "      <th>48719</th>\n",
       "      <td>12.807882</td>\n",
       "      <td>0</td>\n",
       "      <td>61400.0</td>\n",
       "      <td>44900.0</td>\n",
       "      <td>120.0</td>\n",
       "      <td>5.400000</td>\n",
       "      <td>37.9</td>\n",
       "      <td>0.838333</td>\n",
       "      <td>149.0</td>\n",
       "      <td>black</td>\n",
       "      <td>...</td>\n",
       "      <td>0</td>\n",
       "      <td>0</td>\n",
       "      <td>0</td>\n",
       "      <td>0</td>\n",
       "      <td>0</td>\n",
       "      <td>1</td>\n",
       "      <td>1</td>\n",
       "      <td>0</td>\n",
       "      <td>0</td>\n",
       "      <td>1</td>\n",
       "    </tr>\n",
       "    <tr>\n",
       "      <th>48721</th>\n",
       "      <td>7.525055</td>\n",
       "      <td>0</td>\n",
       "      <td>3700.0</td>\n",
       "      <td>0.0</td>\n",
       "      <td>117.0</td>\n",
       "      <td>5.900000</td>\n",
       "      <td>38.2</td>\n",
       "      <td>NaN</td>\n",
       "      <td>NaN</td>\n",
       "      <td>black</td>\n",
       "      <td>...</td>\n",
       "      <td>0</td>\n",
       "      <td>0</td>\n",
       "      <td>0</td>\n",
       "      <td>0</td>\n",
       "      <td>0</td>\n",
       "      <td>4</td>\n",
       "      <td>2</td>\n",
       "      <td>0</td>\n",
       "      <td>0</td>\n",
       "      <td>1</td>\n",
       "    </tr>\n",
       "    <tr>\n",
       "      <th>48748</th>\n",
       "      <td>7.694921</td>\n",
       "      <td>0</td>\n",
       "      <td>8300.0</td>\n",
       "      <td>2500.0</td>\n",
       "      <td>161.0</td>\n",
       "      <td>5.400000</td>\n",
       "      <td>35.0</td>\n",
       "      <td>0.770000</td>\n",
       "      <td>114.0</td>\n",
       "      <td>black</td>\n",
       "      <td>...</td>\n",
       "      <td>0</td>\n",
       "      <td>1</td>\n",
       "      <td>0</td>\n",
       "      <td>0</td>\n",
       "      <td>1</td>\n",
       "      <td>6</td>\n",
       "      <td>2</td>\n",
       "      <td>0</td>\n",
       "      <td>0</td>\n",
       "      <td>1</td>\n",
       "    </tr>\n",
       "    <tr>\n",
       "      <th>48749</th>\n",
       "      <td>0.000000</td>\n",
       "      <td>0</td>\n",
       "      <td>0.0</td>\n",
       "      <td>0.0</td>\n",
       "      <td>NaN</td>\n",
       "      <td>NaN</td>\n",
       "      <td>NaN</td>\n",
       "      <td>NaN</td>\n",
       "      <td>NaN</td>\n",
       "      <td>black</td>\n",
       "      <td>...</td>\n",
       "      <td>0</td>\n",
       "      <td>0</td>\n",
       "      <td>0</td>\n",
       "      <td>0</td>\n",
       "      <td>0</td>\n",
       "      <td>0</td>\n",
       "      <td>0</td>\n",
       "      <td>0</td>\n",
       "      <td>0</td>\n",
       "      <td>0</td>\n",
       "    </tr>\n",
       "    <tr>\n",
       "      <th>48775</th>\n",
       "      <td>3.244437</td>\n",
       "      <td>0</td>\n",
       "      <td>1300.0</td>\n",
       "      <td>0.0</td>\n",
       "      <td>145.0</td>\n",
       "      <td>6.100000</td>\n",
       "      <td>NaN</td>\n",
       "      <td>0.970000</td>\n",
       "      <td>66.0</td>\n",
       "      <td>black</td>\n",
       "      <td>...</td>\n",
       "      <td>0</td>\n",
       "      <td>1</td>\n",
       "      <td>0</td>\n",
       "      <td>0</td>\n",
       "      <td>1</td>\n",
       "      <td>1</td>\n",
       "      <td>1</td>\n",
       "      <td>0</td>\n",
       "      <td>0</td>\n",
       "      <td>1</td>\n",
       "    </tr>\n",
       "  </tbody>\n",
       "</table>\n",
       "<p>5582 rows × 163 columns</p>\n",
       "</div>"
      ],
      "text/plain": [
       "       risk_score_t  program_enrolled_t   cost_t  cost_avoidable_t  \\\n",
       "8          1.087141                   0   1000.0               0.0   \n",
       "20        11.092237                   0   2900.0               0.0   \n",
       "23         0.611517                   0   1900.0             400.0   \n",
       "30         4.552404                   0   1900.0             100.0   \n",
       "47         1.885510                   0   2000.0               0.0   \n",
       "...             ...                 ...      ...               ...   \n",
       "48719     12.807882                   0  61400.0           44900.0   \n",
       "48721      7.525055                   0   3700.0               0.0   \n",
       "48748      7.694921                   0   8300.0            2500.0   \n",
       "48749      0.000000                   0      0.0               0.0   \n",
       "48775      3.244437                   0   1300.0               0.0   \n",
       "\n",
       "       bps_mean_t  ghba1c_mean_t  hct_mean_t  cre_mean_t  ldl_mean_t   race  \\\n",
       "8           118.0       5.800000        39.1    0.490000        78.0  black   \n",
       "20          124.0            NaN         NaN         NaN         NaN  black   \n",
       "23          106.0            NaN         NaN         NaN         NaN  black   \n",
       "30          140.0       6.233333        40.8    1.000000        81.0  black   \n",
       "47          123.0            NaN        37.9    0.955000         NaN  black   \n",
       "...           ...            ...         ...         ...         ...    ...   \n",
       "48719       120.0       5.400000        37.9    0.838333       149.0  black   \n",
       "48721       117.0       5.900000        38.2         NaN         NaN  black   \n",
       "48748       161.0       5.400000        35.0    0.770000       114.0  black   \n",
       "48749         NaN            NaN         NaN         NaN         NaN  black   \n",
       "48775       145.0       6.100000         NaN    0.970000        66.0  black   \n",
       "\n",
       "       ...  trig_mean-high_tm1  trig_mean-normal_tm1  trig_max-low_tm1  \\\n",
       "8      ...                   0                     1                 1   \n",
       "20     ...                   0                     0                 0   \n",
       "23     ...                   0                     1                 0   \n",
       "30     ...                   0                     0                 1   \n",
       "47     ...                   0                     0                 0   \n",
       "...    ...                 ...                   ...               ...   \n",
       "48719  ...                   0                     0                 0   \n",
       "48721  ...                   0                     0                 0   \n",
       "48748  ...                   0                     1                 0   \n",
       "48749  ...                   0                     0                 0   \n",
       "48775  ...                   0                     1                 0   \n",
       "\n",
       "       trig_max-high_tm1  trig_max-normal_tm1  gagne_sum_tm1  gagne_sum_t  D  \\\n",
       "8                      0                    1              1            1  0   \n",
       "20                     0                    0              4            2  0   \n",
       "23                     0                    1              0            0  0   \n",
       "30                     0                    0              1            1  0   \n",
       "47                     0                    0              1            1  0   \n",
       "...                  ...                  ...            ...          ... ..   \n",
       "48719                  0                    0              1            1  0   \n",
       "48721                  0                    0              4            2  0   \n",
       "48748                  0                    1              6            2  0   \n",
       "48749                  0                    0              0            0  0   \n",
       "48775                  0                    1              1            1  0   \n",
       "\n",
       "       A  Y  \n",
       "8      0  1  \n",
       "20     0  1  \n",
       "23     0  0  \n",
       "30     0  1  \n",
       "47     0  1  \n",
       "...   .. ..  \n",
       "48719  0  1  \n",
       "48721  0  1  \n",
       "48748  0  1  \n",
       "48749  0  0  \n",
       "48775  0  1  \n",
       "\n",
       "[5582 rows x 163 columns]"
      ]
     },
     "execution_count": 78,
     "metadata": {},
     "output_type": "execute_result"
    }
   ],
   "source": [
    "data"
   ]
  },
  {
   "cell_type": "code",
   "execution_count": null,
   "id": "0ac28404",
   "metadata": {},
   "outputs": [],
   "source": [
    "data['old'] = 'dem_age_band_65-74_tm1', 'dem_age_band_75+_tm1'"
   ]
  },
  {
   "cell_type": "code",
   "execution_count": 118,
   "id": "6ef12454",
   "metadata": {},
   "outputs": [
    {
     "data": {
      "text/plain": [
       "race   dem_age_band_75+_tm1\n",
       "black  0                       0.012717\n",
       "       1                       0.033163\n",
       "white  0                       0.007519\n",
       "       1                       0.023378\n",
       "Name: program_enrolled_t, dtype: float64"
      ]
     },
     "execution_count": 118,
     "metadata": {},
     "output_type": "execute_result"
    }
   ],
   "source": [
    "\n",
    "\n",
    "data.groupby(['race','dem_age_band_75+_tm1']).mean()['program_enrolled_t']"
   ]
  },
  {
   "cell_type": "code",
   "execution_count": 119,
   "id": "308a4629",
   "metadata": {},
   "outputs": [
    {
     "name": "stdout",
     "output_type": "stream",
     "text": [
      "FPR\n",
      "TS: [-0.031, 0.33]\n",
      "OS: [0.017, 0.3]\n",
      "Regret: 0.014857503039034714\n",
      "FNR\n",
      "TS: [-0.66, -0.059]\n",
      "OS: [-0.64, -0.1]\n",
      "Regret: -0.13987882437060162\n",
      "TPR\n",
      "TS: [0.059, 0.66]\n",
      "OS: [0.1, 0.64]\n",
      "Regret: 0.13987882437060176\n",
      "TNR\n",
      "TS: [-0.33, 0.031]\n",
      "OS: [-0.3, -0.017]\n",
      "Regret: -0.014857503039034659\n",
      "ACCURACY\n",
      "TS: [0.024, 0.18]\n",
      "OS: [0.036, 0.17]\n",
      "Regret: 0.06942850114791732\n",
      "PPV\n",
      "TS: [-0.45, 0.98]\n",
      "OS: [-0.45, 0.98]\n",
      "Regret: -0.041507749017972606\n",
      "NPV\n",
      "TS: [-0.014, 0.013]\n",
      "OS: [-0.0016, 0.0012]\n",
      "Regret: 0.03451420522186821\n"
     ]
    }
   ],
   "source": [
    "data = pd.read_csv('data/obermeyer.csv')\n",
    "data['D'] = data['program_enrolled_t']\n",
    "data['A'] = data['arrhythmia_elixhauser_tm1'].astype(int)\n",
    "data['Y'] = (data['gagne_sum_t'] >= 1).astype(int)\n",
    "# data = data[data['race'] == 'black']\n",
    "\n",
    "dgp = {\n",
    "    'lambda': 2,\n",
    "    'N': 10000,\n",
    "    'nz': 10,\n",
    "    'beta': 2.5*(1/10) ,\n",
    "    'wa': np.array([-1.95, .01, 2, .01]), \n",
    "    'wd': np.array([-1.1, 1.7, .01, 1.5, .2, .2]),\n",
    "    'w_mu1': np.array([1.3, .8, .02, .9, .3, .6]),\n",
    "    'w_mu0': np.array([1.5, .05, 1.8, .05, .2, .5])\n",
    "}\n",
    "u = np.array([[0,0], [0, 0]])\n",
    "id_strategies = ['MSM']\n",
    "metric='TPR'\n",
    "\n",
    "metrics = ['FPR', 'FNR', 'TPR', 'TNR', 'ACCURACY', 'PPV', 'NPV']\n",
    "\n",
    "for metric in metrics:\n",
    "    bounds = compare_bounds(data, dgp, '', 1, u, metric, id_strategies, run=0)\n",
    "    print(metric)\n",
    "    print(f\"TS: [{bounds[0]['TS_down']:.2}, {bounds[0]['TS_up']:.2}]\")\n",
    "    print(f\"OS: [{bounds[0]['OS_down']:.2}, {bounds[0]['OS_up']:.2}]\")\n",
    "    \n",
    "    print(f\"Regret: {bounds[0]['R']}\")"
   ]
  },
  {
   "cell_type": "code",
   "execution_count": null,
   "id": "ec3c1404",
   "metadata": {},
   "outputs": [],
   "source": []
  }
 ],
 "metadata": {
  "kernelspec": {
   "display_name": "Python 3 (ipykernel)",
   "language": "python",
   "name": "python3"
  },
  "language_info": {
   "codemirror_mode": {
    "name": "ipython",
    "version": 3
   },
   "file_extension": ".py",
   "mimetype": "text/x-python",
   "name": "python",
   "nbconvert_exporter": "python",
   "pygments_lexer": "ipython3",
   "version": "3.9.16"
  }
 },
 "nbformat": 4,
 "nbformat_minor": 5
}
